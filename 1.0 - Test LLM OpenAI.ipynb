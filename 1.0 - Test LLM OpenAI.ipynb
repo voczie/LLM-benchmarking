{
 "cells": [
  {
   "cell_type": "code",
   "execution_count": 25,
   "id": "435d8af7",
   "metadata": {},
   "outputs": [],
   "source": [
    "# Imports\n",
    "\n",
    "import os\n",
    "from dotenv import load_dotenv\n",
    "from langchain.prompts import PromptTemplate\n",
    "from langchain_core.output_parsers import StrOutputParser\n",
    "from langchain_openai import OpenAI\n",
    "import datetime\n",
    "\n",
    "load_dotenv()\n",
    "OPENAI_API_KEY = os.getenv(\"OPENAI_API_KEY\")"
   ]
  },
  {
   "cell_type": "code",
   "execution_count": null,
   "id": "b14ed310",
   "metadata": {},
   "outputs": [],
   "source": [
    "if os.path.exists('results/') == False:\n",
    "    os.mkdir('results/')\n",
    "\n",
    "if os.path.exists('results/openai/') == False:\n",
    "    os.mkdir('results/openai/')"
   ]
  },
  {
   "cell_type": "code",
   "execution_count": 21,
   "id": "e9f44c0e",
   "metadata": {},
   "outputs": [],
   "source": [
    "with open(\"prompt.txt\", \"r\", encoding=\"utf-8\") as f:\n",
    "    context = f.read()"
   ]
  },
  {
   "cell_type": "code",
   "execution_count": 13,
   "id": "885d6f5f",
   "metadata": {},
   "outputs": [],
   "source": [
    "schema = '''CREATE TABLE features (\n",
    "    id text,\n",
    "    seqid text,\n",
    "    source text,\n",
    "    featuretype text,\n",
    "    start int,\n",
    "    end int,\n",
    "    score text,\n",
    "    strand text,\n",
    "    frame text,\n",
    "    attributes text,\n",
    "    extra text,\n",
    "    bin int,\n",
    "    primary key (id)\n",
    "    );\n",
    "\n",
    "CREATE TABLE relations (\n",
    "    parent text,\n",
    "    child text,\n",
    "    level int,\n",
    "    primary key (parent, child, level)\n",
    "    );\n",
    "\n",
    "CREATE TABLE meta (\n",
    "    dialect text,\n",
    "    version text\n",
    "    );\n",
    "\n",
    "CREATE TABLE directives (\n",
    "    directive text\n",
    "    );\n",
    "\n",
    "CREATE TABLE autoincrements (\n",
    "    base text,\n",
    "    n int,\n",
    "    primary key (base)\n",
    "    );\n",
    "\n",
    "CREATE TABLE duplicates (\n",
    "    idspecid text,\n",
    "    newid text,\n",
    "    primary key (newid)\n",
    "    );'''"
   ]
  },
  {
   "cell_type": "code",
   "execution_count": 14,
   "id": "d05d6ecc",
   "metadata": {},
   "outputs": [],
   "source": [
    "questions = [\n",
    "    \"\"\"How many genes and transcripts are there on chromosome 3?\"\"\",\n",
    "    \"\"\"How many protein-coding genes are on chromosome 12?\"\"\",\n",
    "    \"\"\"How many lncRNA genes are on chromosome 7?\"\"\",\n",
    "    \"\"\"How many pseudogenes are on the X chromosome?\"\"\",\n",
    "    \"\"\"How many genes for miRNA exist in chromosome 10?\"\"\",\n",
    "    \"\"\"Calculate the sizes of each gene locus separately: XIST, MALAT1, BRCA1, COL1A2, NFKB1, NFKB2, REL, RELA and RELB\"\"\",\n",
    "    \"\"\"How many transcript isoforms does the XIST gene have? Print the transcript isoform names (transcript_name) and the sizes of each.\"\"\",\n",
    "    \"\"\"How many exons does the XIST gene have?\"\"\",\n",
    "    \"\"\"How many exons does each transcript isoform of the BRCA1 gene have? Print the transcript isoform names (tr anscript_name) and the number of exons.\"\"\",\n",
    "    \"\"\"What is the average exon size of the BRCA1 transcript isoforms?\"\"\",\n",
    "    \"\"\"What is the chromosomal position of the BRCA1 gene?\"\"\",\n",
    "    \"\"\"On which chromosomes are the genes NFKB1, NFKB2, REL, RELA and RELB located?\"\"\",\n",
    "    \"\"\"Print the names of the 2 genes located immediately before and after the gene COL1A2, respectively\"\"\",\n",
    "    \"\"\"What is the biotype of the following genes XIST, MALAT1, BRCA1,NFKB1, NFKB2, REL, RELA, RELB and COL1A2?\"\"\",\n",
    "    \"\"\"What strand are the HOTAIR, HOXC11, and HOXC12 genes located on?\"\"\",\n",
    "    \"\"\"Which genes are located between the HOXC11 and HOXC12 genes on + and - strands?\"\"\",\n",
    "    \"\"\"Get the following informations about each transcript isoforms of the XIST, MALAT1, BRCA1, NFKB1, COL1A2, HOTAIR, HOXC11, and HOXC12 genes: chromosomal location and position, size, number of exons, average exon size, strand, and biotype. Organize all the information in a table and save it.\"\"\",\n",
    "    \"\"\"Generate a scatterplot to represent the distribution of gene sizes in the X chromosome.\"\"\",\n",
    "    \"\"\"Generate a stacked barplot chart to represent the proportions of protein-coding, lncRNA and miRNA genes on each chromosome separately.\"\"\",\n",
    "    \"\"\"Generate a boxplot to represent the comparison of protein_coding, lncRNA, and miRNA transcript sizes\"\"\"\n",
    "]"
   ]
  },
  {
   "cell_type": "code",
   "execution_count": 29,
   "id": "9605683c",
   "metadata": {},
   "outputs": [
    {
     "ename": "TypeError",
     "evalue": "RunnableSequence.invoke() takes from 2 to 3 positional arguments but 4 were given",
     "output_type": "error",
     "traceback": [
      "\u001b[31m---------------------------------------------------------------------------\u001b[39m",
      "\u001b[31mTypeError\u001b[39m                                 Traceback (most recent call last)",
      "\u001b[36mCell\u001b[39m\u001b[36m \u001b[39m\u001b[32mIn[29]\u001b[39m\u001b[32m, line 12\u001b[39m\n\u001b[32m      6\u001b[39m prompt = PromptTemplate(\n\u001b[32m      7\u001b[39m     input_variables=[\u001b[33m\"\u001b[39m\u001b[33mcontext\u001b[39m\u001b[33m\"\u001b[39m, \u001b[33m\"\u001b[39m\u001b[33mschema\u001b[39m\u001b[33m\"\u001b[39m, \u001b[33m\"\u001b[39m\u001b[33mquestion\u001b[39m\u001b[33m\"\u001b[39m], template=TEMPLATE\n\u001b[32m      8\u001b[39m )\n\u001b[32m     10\u001b[39m chain = prompt | llm | StrOutputParser()\n\u001b[32m---> \u001b[39m\u001b[32m12\u001b[39m \u001b[43mchain\u001b[49m\u001b[43m.\u001b[49m\u001b[43minvoke\u001b[49m\u001b[43m(\u001b[49m\u001b[43mcontext\u001b[49m\u001b[43m,\u001b[49m\u001b[43m \u001b[49m\u001b[43mschema\u001b[49m\u001b[43m,\u001b[49m\u001b[43m \u001b[49m\u001b[43mquestions\u001b[49m\u001b[43m[\u001b[49m\u001b[32;43m0\u001b[39;49m\u001b[43m]\u001b[49m\u001b[43m)\u001b[49m\n",
      "\u001b[31mTypeError\u001b[39m: RunnableSequence.invoke() takes from 2 to 3 positional arguments but 4 were given"
     ]
    }
   ],
   "source": [
    "llm = OpenAI(model=\"gpt-4o-mini\", temperature=0.1)\n",
    "\n",
    "TEMPLATE = '''Context: {context}. Given a genome annotation in a GFF/GTF format and all of its data is stored in a sqlite3 database with the following SCHEMA: {schema},\n",
    "    guide me with a query or a walkthrough based on to answer the following question: {question}'''\n",
    "\n",
    "prompt = PromptTemplate(\n",
    "    input_variables=[\"context\", \"schema\", \"question\"], template=TEMPLATE\n",
    ")\n",
    "\n",
    "chain = prompt | llm | StrOutputParser()\n",
    "\n",
    "chain.invoke(context, schema, questions[0])"
   ]
  },
  {
   "cell_type": "code",
   "execution_count": null,
   "id": "5b000618",
   "metadata": {},
   "outputs": [],
   "source": [
    "from langchain_core.output_parsers import StrOutputParser\n",
    "from langchain_core.prompts import PromptTemplate\n",
    "from langchain_openai import OpenAI\n",
    "\n",
    "prompt_template = \"Tell me a {adjective} joke\"\n",
    "\n",
    "prompt = PromptTemplate(\n",
    "    input_variables=[\"adjective\"], template=prompt_template\n",
    ")\n",
    "\n",
    "llm = OpenAI()\n",
    "chain = prompt | llm | StrOutputParser()\n",
    "\n",
    "chain.invoke(\"your adjective here\")"
   ]
  },
  {
   "cell_type": "code",
   "execution_count": null,
   "id": "f5779d8c",
   "metadata": {},
   "outputs": [],
   "source": [
    "current_time = datetime.datetime.now().strftime(\"%Y%m%d%H%M%S\")\n",
    "\n",
    "llm = OpenAI(model=\"gpt-4o-mini\", temperature=0.1)\n",
    "\n",
    "for ix, question in enumerate(questions):\n",
    "    TEMPLATE = f'''Context: {context_str}. Given a genome annotation in a GFF/GTF format and all of its data is stored in a sqlite3 database with the following SCHEMA: {schema},\n",
    "    guide me with a query or a walkthrough based on to answer the following question: {question}'''\n",
    "\n",
    "    chain = LLMChain(llm=llm)\n",
    "\n",
    "    res = chain.run({\"topic\": TEMPLATE})\n",
    "\n",
    "    with open(f'results/openai/llm_test_question_{ix}_{current_time}.txt', 'w') as f:\n",
    "        f.write(res)\n",
    "\n"
   ]
  }
 ],
 "metadata": {
  "kernelspec": {
   "display_name": ".venv",
   "language": "python",
   "name": "python3"
  },
  "language_info": {
   "codemirror_mode": {
    "name": "ipython",
    "version": 3
   },
   "file_extension": ".py",
   "mimetype": "text/x-python",
   "name": "python",
   "nbconvert_exporter": "python",
   "pygments_lexer": "ipython3",
   "version": "3.12.10"
  }
 },
 "nbformat": 4,
 "nbformat_minor": 5
}
