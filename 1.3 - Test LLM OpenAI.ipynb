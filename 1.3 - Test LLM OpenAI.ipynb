{
 "cells": [
  {
   "cell_type": "code",
   "execution_count": 1,
   "id": "435d8af7",
   "metadata": {},
   "outputs": [
    {
     "name": "stderr",
     "output_type": "stream",
     "text": [
      "c:\\Users\\voczie\\Documents\\UFPB\\TCC\\genomechat\\.venv\\Lib\\site-packages\\tqdm\\auto.py:21: TqdmWarning: IProgress not found. Please update jupyter and ipywidgets. See https://ipywidgets.readthedocs.io/en/stable/user_install.html\n",
      "  from .autonotebook import tqdm as notebook_tqdm\n"
     ]
    }
   ],
   "source": [
    "# Imports\n",
    "import os\n",
    "from dotenv import load_dotenv\n",
    "from langchain.prompts import PromptTemplate\n",
    "from langchain_core.output_parsers import StrOutputParser\n",
    "from langchain_core.rate_limiters import InMemoryRateLimiter\n",
    "from langchain_openai import ChatOpenAI # Note the change from OpenAI to ChatOpenAI\n",
    "import sqlite3\n",
    "import datetime\n",
    "import chromadb\n",
    "\n",
    "\n",
    "load_dotenv()\n",
    "OPENAI_API_KEY = os.getenv(\"OPENAI_API_KEY_3\")\n",
    "collection = chromadb.PersistentClient(path=\"databases/\").get_collection(name=\"questions_code_examples_python\") # Took 36.5s to deal with this part (maybe downloading embedding function part)"
   ]
  },
  {
   "cell_type": "code",
   "execution_count": 2,
   "id": "b3395999",
   "metadata": {},
   "outputs": [],
   "source": [
    "# load database\n",
    "db = sqlite3.connect('sapiens_gff.db')\n",
    "cursor = db.cursor()"
   ]
  },
  {
   "cell_type": "code",
   "execution_count": 2,
   "id": "b14ed310",
   "metadata": {},
   "outputs": [],
   "source": [
    "# Modify this cell each test!!!!!!!!!!!!!!!!!!!!!\n",
    "\n",
    "test_number = 4\n",
    "\n",
    "if os.path.exists('results/') == False:\n",
    "    os.mkdir('results/')\n",
    "\n",
    "if os.path.exists(f'results/Teste {test_number}/') == False:\n",
    "    os.mkdir(f'results/Teste {test_number}/')\n",
    "\n",
    "if os.path.exists(f'results/Teste {test_number}/no-prompt') == False:\n",
    "    os.mkdir(f'results/Teste {test_number}/no-prompt')\n",
    "\n",
    "if os.path.exists(f'results/Teste {test_number}/with-prompt') == False:\n",
    "    os.mkdir(f'results/Teste {test_number}/with-prompt')\n",
    "\n",
    "if os.path.exists(f'results/Teste {test_number}/no-prompt/gpt4omini') == False:\n",
    "    os.mkdir(f'results/Teste {test_number}/no-prompt/gpt4omini')\n",
    "\n",
    "if os.path.exists(f'results/Teste {test_number}/with-prompt/gpt4omini') == False:\n",
    "    os.mkdir(f'results/Teste {test_number}/with-prompt/gpt4omini')"
   ]
  },
  {
   "cell_type": "code",
   "execution_count": 3,
   "id": "e9f44c0e",
   "metadata": {},
   "outputs": [],
   "source": [
    "with open(\"1.2 - prompt.md\", \"r\", encoding=\"utf-8\") as f:\n",
    "    context = f.read()"
   ]
  },
  {
   "cell_type": "code",
   "execution_count": 4,
   "id": "a2733932",
   "metadata": {},
   "outputs": [],
   "source": [
    "ddl = '''table_name,field_name,field_type,field_description\n",
    "features,id,text,Primary key for features. The content of this field is determined by the user and the file format at creation time\n",
    "features,seqid,text,Chromosome or contig ID\n",
    "features,source,text,The source of the annotation (e.g. Ensembl; GENCODE)\n",
    "features,featuretype,text,The type of feature (e.g. gene; transcript; exon)\n",
    "features,start,int,The start coordinate of the feature\n",
    "features,end,int,The end coordinate of the feature\n",
    "features,score,text,A score associated with the feature (if available)\n",
    "features,strand,text,The strand of the feature (+; -; or .)\n",
    "features,frame,text,The coding frame of the feature (0; 1; or 2)\n",
    "features,attributes,text,A string containing semicolon-separated attribute-value pairs\n",
    "features,extra,text,A JSON-serialized list of non-standard extra fields. These are sometimes added by analysis tools (e.g. BEDTools). For standard GFF/GTF this field will be empty\n",
    "features,bin,int,The genomic bin according to the UCSC binning strategy\n",
    "features,primary key,(id),Same as the field id. Primary key for features\n",
    "relations,parent,text,Foreign key to features.id – a gene for example\n",
    "relations,child,text,Foreign key to feature.id – an mRNA or an exon for example\n",
    "relations,level,int,In graph terms the number of edges between child and parent. In biological terms if parent=gene and child=mRNA then level=1. If parent=gene and child=exon then level=2\n",
    "relations,primary key,(parent, child, level),Composite key using the fields parent; child and level. Composed of two foreign keys and one integer\n",
    "meta,dialect,text,A JSON-serialized version of the dialect empirically determined when parsing the original file\n",
    "meta,version,text,The gffutils version used to create the database\n",
    "directives,directive,text,String directive without the leading ##\n",
    "autoincrements,base,text,By default the feature type (gene; exon; etc) but can also be the value of any GFF field or attribute (e.g. the seqid or “GENE_1” (in the case of multiple features with ID=”GENE_1”)\n",
    "autoincrements,n,int,Current extent of autoincrementing – add 1 to this when autoincrementing next time\n",
    "autoincrements,primary key,(base),Same as the field base. Primary key for autoincrements\n",
    "duplicates,idspecid,text,ID of the identified duplicated feature\n",
    "duplicates,newid,text,New ID for the duplicated feature\n",
    "duplicates,primary key,(newid),Same as the field newid. Primary key for duplicates\n",
    "'''"
   ]
  },
  {
   "cell_type": "code",
   "execution_count": 12,
   "id": "d05d6ecc",
   "metadata": {},
   "outputs": [],
   "source": [
    "questions = [\n",
    "    \"\"\"How many genes and transcripts are there on chromosome 3?\"\"\",  #1\n",
    "    \"\"\"How many protein-coding genes are on chromosome 12?\"\"\",        #2\n",
    "    \"\"\"How many lncRNA genes are on chromosome 7?\"\"\",                 #3\n",
    "    \"\"\"How many pseudogenes are on the X chromosome?\"\"\",              #4\n",
    "    \"\"\"How many genes for miRNA exist in chromosome 10?\"\"\",           #5\n",
    "    \"\"\"Calculate the sizes of each gene locus separately: XIST, MALAT1, BRCA1, COL1A2, NFKB1, NFKB2, REL, RELA and RELB\"\"\",       #6\n",
    "    \"\"\"How many transcript isoforms does the XIST gene have? Print the transcript isoform names (transcript_name) and the sizes of each.\"\"\",      #7\n",
    "    \"\"\"How many exons does the XIST gene have?\"\"\",        #8                                                                                        \n",
    "    \"\"\"How many exons does each transcript isoform of the BRCA1 gene have? Print the transcript isoform names (tr anscript_name) and the number of exons.\"\"\",         #9\n",
    "    \"\"\"What is the average exon size of the BRCA1 transcript isoforms?\"\"\",        #10\n",
    "    \"\"\"What is the chromosomal position of the BRCA1 gene?\"\"\",        #11\n",
    "    \"\"\"On which chromosomes are the genes NFKB1, NFKB2, REL, RELA and RELB located?\"\"\",       #12\n",
    "    \"\"\"Print the names of the 2 genes located immediately before and after the gene COL1A2, respectively\"\"\",      #13\n",
    "    \"\"\"What is the biotype of the following genes XIST, MALAT1, BRCA1,NFKB1, NFKB2, REL, RELA, RELB and COL1A2?\"\"\",        #14\n",
    "    \"\"\"What strand are the HOTAIR, HOXC11, and HOXC12 genes located on?\"\"\",       #15\n",
    "    \"\"\"Which genes are located between the HOXC11 and HOXC12 genes on + and - strands?\"\"\",        #16\n",
    "    \"\"\"Get the following informations about each transcript isoforms of the XIST, MALAT1, BRCA1, NFKB1, COL1A2, HOTAIR, HOXC11, and HOXC12 genes: chromosomal location and position, size, number of exons, average exon size, strand, and biotype. Organize all the information in a table and save it.\"\"\",      #17\n",
    "    \"\"\"Generate a scatterplot to represent the distribution of gene sizes in the X chromosome.\"\"\",        #18\n",
    "    \"\"\"Generate a stacked barplot chart to represent the proportions of protein-coding, lncRNA and miRNA genes on each chromosome separately.\"\"\",         #19\n",
    "    \"\"\"Generate a boxplot to represent the comparison of protein_coding, lncRNA, and miRNA transcript sizes\"\"\"        #20\n",
    "]"
   ]
  },
  {
   "cell_type": "code",
   "execution_count": null,
   "id": "2416a795",
   "metadata": {},
   "outputs": [],
   "source": [
    "questions_2 = [\n",
    "    \"\"\"How many genes and transcripts are there on chromosome Y?\"\"\",  #1 Gene Count and Distribution by Chromosome\n",
    "    \"\"\"How many protein-coding transcripts are present on chromosome 1?\"\"\",        #2 Gene Count and Distribution by Chromosome\n",
    "    \"\"\"What are the Ensembl gene IDs and biotypes of XIST, MALAT1, BRCA1, and COL1A2?\"\"\",    #3 Specific Gene Characteristics\n",
    "    \"\"\"Which BRCA1 transcript has the smallest average exon size?\"\"\",              #4 Specific Gene Characteristics\n",
    "    \"\"\"Which gene lies directly downstream of COL1A2 on the same strand?\"\"\",           #5 Chromosomal Location\n",
    "    \"\"\"Which gene precedes COL1A2 and is on the same strand?\"\"\",       #6 Chromosomal Location\n",
    "    \"\"\"Create a table showing the number of transcripts per gene for BRCA1, MALAT1, and XIST.\"\"\",      #7 Gene and Isoform Features\n",
    "    \"\"\"Generate a scatterplot showing the relationship between gene length and number of exons on chromosome X.\"\"\"        #8 Gene and Isoform Features                                                                                       \n",
    "]"
   ]
  },
  {
   "cell_type": "code",
   "execution_count": 6,
   "id": "9cbca6ed",
   "metadata": {},
   "outputs": [],
   "source": [
    "def get_code_examples(question_query, n = 3):\n",
    "    results = collection.query(\n",
    "        query_texts=[question_query],\n",
    "        n_results=3,\n",
    "        include=['metadatas', 'documents']\n",
    "    )\n",
    "\n",
    "    dict_results = {}\n",
    "    for i, doc in enumerate(results['documents'][0]):\n",
    "        dict_results.update({doc:results['metadatas'][0][i]['code_example']})\n",
    "\n",
    "    return dict_results"
   ]
  },
  {
   "cell_type": "code",
   "execution_count": 7,
   "id": "07d68ce9",
   "metadata": {},
   "outputs": [],
   "source": [
    "rate_limiter = InMemoryRateLimiter(requests_per_second=2, check_every_n_seconds=0.1, max_bucket_size=10)"
   ]
  },
  {
   "cell_type": "code",
   "execution_count": 21,
   "id": "9605683c",
   "metadata": {},
   "outputs": [],
   "source": [
    "# Use ChatOpenAI instead of OpenAI\n",
    "llm = ChatOpenAI(model=\"gpt-4o-mini\", temperature=0.1, rate_limiter=rate_limiter, api_key=OPENAI_API_KEY)\n",
    "\n",
    "current_time = datetime.datetime.now().strftime(\"%Y%m%d%H%M%S\")\n",
    "\n",
    "for ix, question in enumerate(questions_2):\n",
    "    questions_codes = get_code_examples(question)\n",
    "\n",
    "    TEMPLATE = '''\n",
    "    {context}\n",
    "\n",
    "    ### Given a genome annotation in a GFF/GTF format, and all of its data is stored in a SQLite3 database, whose fields are described within the DDL: \n",
    "    <ddl>\n",
    "    {ddl}\n",
    "    </ddl>\n",
    "\n",
    "    <user_question>\n",
    "    Guide me with a query or a walkthrough based on to answer the following question: {question}\n",
    "    </user_question>\n",
    "\n",
    "    Here's some code examples in Python 3 that might help:\n",
    "    <code_examples>\n",
    "    {questions_codes}\n",
    "    </code_examples>\n",
    "    '''\n",
    "\n",
    "    prompt = PromptTemplate(\n",
    "        input_variables=[\"context\", \"ddl\", \"question\", \"questions_codes\"], template=TEMPLATE\n",
    "    )\n",
    "\n",
    "    chain = prompt | llm | StrOutputParser()\n",
    "\n",
    "    # Correct way to invoke the chain with a dictionary of inputs\n",
    "    result = chain.invoke({\n",
    "        \"context\": context,\n",
    "        \"ddl\": ddl,\n",
    "        \"question\": question,\n",
    "        \"questions_codes\": questions_codes\n",
    "    })\n",
    "\n",
    "    with open(f'results/Teste {test_number}/with-prompt/gpt4omini/llm_test_question_{ix}_{current_time}.txt', 'w', encoding='utf-8') as f:\n",
    "        f.write(result)"
   ]
  },
  {
   "cell_type": "code",
   "execution_count": 9,
   "id": "5b571e75",
   "metadata": {},
   "outputs": [],
   "source": [
    "# Use ChatOpenAI instead of OpenAI\n",
    "llm = ChatOpenAI(model=\"gpt-4o-mini\", temperature=0.1, rate_limiter=rate_limiter, api_key=OPENAI_API_KEY)\n",
    "\n",
    "current_time = datetime.datetime.now().strftime(\"%Y%m%d%H%M%S\")\n",
    "\n",
    "for ix, question in enumerate(questions_2):\n",
    "    questions_codes = get_code_examples(question)\n",
    "    \n",
    "    TEMPLATE = '''\n",
    "    ### Given a genome annotation in a GFF/GTF format, and all of its data is stored in a SQLite3 database, whose fields are described within the DDL: \n",
    "    <ddl>\n",
    "    {ddl}\n",
    "    </ddl>\n",
    "\n",
    "    <user_question>\n",
    "    Guide me with a query or a walkthrough based on to answer the following question: {question}\n",
    "    </user_question>\n",
    "\n",
    "    Here's some code examples in Python 3 that might help:\n",
    "    <code_examples>\n",
    "    {questions_codes}\n",
    "    </code_examples>\n",
    "    '''\n",
    "\n",
    "    prompt = PromptTemplate(\n",
    "        input_variables=[\"ddl\", \"question\", \"questions_codes\"], template=TEMPLATE\n",
    "    )\n",
    "\n",
    "    chain = prompt | llm | StrOutputParser()\n",
    "\n",
    "    # Correct way to invoke the chain with a dictionary of inputs\n",
    "    result = chain.invoke({\n",
    "        \"ddl\": ddl,\n",
    "        \"question\": question,\n",
    "        \"questions_codes\": questions_codes\n",
    "    })\n",
    "\n",
    "    with open(f'results/Teste {test_number}/no-prompt/gpt4omini/llm_test_question_{ix}_{current_time}.txt', 'w', encoding='utf-8') as f:\n",
    "        f.write(result)"
   ]
  },
  {
   "cell_type": "code",
   "execution_count": 44,
   "id": "3013e32e",
   "metadata": {},
   "outputs": [
    {
     "data": {
      "text/plain": [
       "[('gene', 1108), ('transcript', 1660)]"
      ]
     },
     "execution_count": 44,
     "metadata": {},
     "output_type": "execute_result"
    }
   ],
   "source": [
    "query = '''\n",
    "SELECT 'gene' AS feature_type, COUNT(*) AS count\n",
    "FROM features\n",
    "WHERE seqid = '3' AND featuretype = 'gene'\n",
    "GROUP BY feature_type\n",
    "\n",
    "UNION ALL\n",
    "\n",
    "SELECT 'transcript' AS feature_type, COUNT(*) AS count\n",
    "FROM features\n",
    "WHERE seqid = '3' AND featuretype IN ('transcript')\n",
    "GROUP BY feature_type;\n",
    "'''\n",
    "\n",
    "cursor.execute(query)\n",
    "results = cursor.fetchall()\n",
    "results"
   ]
  },
  {
   "cell_type": "code",
   "execution_count": 45,
   "id": "2dae1c45",
   "metadata": {},
   "outputs": [
    {
     "name": "stdout",
     "output_type": "stream",
     "text": [
      "Genes on chromosome 3: 1108\n",
      "Transcripts on chromosome 3: 1660\n"
     ]
    }
   ],
   "source": [
    "genes_chr3 = sum(1 for feature in db.features_of_type('gene') if feature.seqid == '3')\n",
    "transcripts_chr3 = sum(1 for feature in db.features_of_type('transcript') if feature.seqid == '3')\n",
    "print(f\"Genes on chromosome 3: {genes_chr3}\")\n",
    "print(f\"Transcripts on chromosome 3: {transcripts_chr3}\")"
   ]
  }
 ],
 "metadata": {
  "kernelspec": {
   "display_name": ".venv",
   "language": "python",
   "name": "python3"
  },
  "language_info": {
   "codemirror_mode": {
    "name": "ipython",
    "version": 3
   },
   "file_extension": ".py",
   "mimetype": "text/x-python",
   "name": "python",
   "nbconvert_exporter": "python",
   "pygments_lexer": "ipython3",
   "version": "3.12.2"
  }
 },
 "nbformat": 4,
 "nbformat_minor": 5
}
