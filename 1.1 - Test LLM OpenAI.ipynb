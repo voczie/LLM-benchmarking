{
 "cells": [
  {
   "cell_type": "code",
   "execution_count": 1,
   "id": "435d8af7",
   "metadata": {},
   "outputs": [],
   "source": [
    "# Imports\n",
    "import os\n",
    "from dotenv import load_dotenv\n",
    "from langchain.prompts import PromptTemplate\n",
    "from langchain_core.output_parsers import StrOutputParser\n",
    "from langchain_core.rate_limiters import InMemoryRateLimiter\n",
    "from langchain_openai import ChatOpenAI # Note the change from OpenAI to ChatOpenAI\n",
    "import sqlite3\n",
    "import datetime\n",
    "\n",
    "load_dotenv()\n",
    "OPENAI_API_KEY = os.getenv(\"OPENAI_API_KEY\")"
   ]
  },
  {
   "cell_type": "code",
   "execution_count": 2,
   "id": "b3395999",
   "metadata": {},
   "outputs": [],
   "source": [
    "# load database\n",
    "db = sqlite3.connect('sapiens_gff.db')\n",
    "cursor = db.cursor()"
   ]
  },
  {
   "cell_type": "code",
   "execution_count": 3,
   "id": "b14ed310",
   "metadata": {},
   "outputs": [],
   "source": [
    "if os.path.exists('results/') == False:\n",
    "    os.mkdir('results/')\n",
    "\n",
    "if os.path.exists('results/openai/') == False:\n",
    "    os.mkdir('results/openai/')"
   ]
  },
  {
   "cell_type": "code",
   "execution_count": 3,
   "id": "e9f44c0e",
   "metadata": {},
   "outputs": [],
   "source": [
    "with open(\"prompt.txt\", \"r\", encoding=\"utf-8\") as f:\n",
    "    context = f.read()"
   ]
  },
  {
   "cell_type": "code",
   "execution_count": 4,
   "id": "885d6f5f",
   "metadata": {},
   "outputs": [],
   "source": [
    "schema = '''CREATE TABLE features (\n",
    "    id text,\n",
    "    seqid text,\n",
    "    source text,\n",
    "    featuretype text,\n",
    "    start int,\n",
    "    end int,\n",
    "    score text,\n",
    "    strand text,\n",
    "    frame text,\n",
    "    attributes text,\n",
    "    extra text,\n",
    "    bin int,\n",
    "    primary key (id)\n",
    "    );\n",
    "\n",
    "CREATE TABLE relations (\n",
    "    parent text,\n",
    "    child text,\n",
    "    level int,\n",
    "    primary key (parent, child, level)\n",
    "    );\n",
    "\n",
    "CREATE TABLE meta (\n",
    "    dialect text,\n",
    "    version text\n",
    "    );\n",
    "\n",
    "CREATE TABLE directives (\n",
    "    directive text\n",
    "    );\n",
    "\n",
    "CREATE TABLE autoincrements (\n",
    "    base text,\n",
    "    n int,\n",
    "    primary key (base)\n",
    "    );\n",
    "\n",
    "CREATE TABLE duplicates (\n",
    "    idspecid text,\n",
    "    newid text,\n",
    "    primary key (newid)\n",
    "    );'''"
   ]
  },
  {
   "cell_type": "code",
   "execution_count": null,
   "id": "d05d6ecc",
   "metadata": {},
   "outputs": [],
   "source": [
    "questions = [\n",
    "    \"\"\"How many genes and transcripts are there on chromosome 3?\"\"\",\n",
    "    \"\"\"How many protein-coding genes are on chromosome 12?\"\"\",\n",
    "    \"\"\"How many lncRNA genes are on chromosome 7?\"\"\",\n",
    "    \"\"\"How many pseudogenes are on the X chromosome?\"\"\",\n",
    "    \"\"\"How many genes for miRNA exist in chromosome 10?\"\"\",\n",
    "    \"\"\"Calculate the sizes of each gene locus separately: XIST, MALAT1, BRCA1, COL1A2, NFKB1, NFKB2, REL, RELA and RELB\"\"\",\n",
    "    \"\"\"How many transcript isoforms does the XIST gene have? Print the transcript isoform names (transcript_name) and the sizes of each.\"\"\",\n",
    "    \"\"\"How many exons does the XIST gene have?\"\"\",\n",
    "    \"\"\"How many exons does each transcript isoform of the BRCA1 gene have? Print the transcript isoform names (tr anscript_name) and the number of exons.\"\"\",\n",
    "    \"\"\"What is the average exon size of the BRCA1 transcript isoforms?\"\"\",\n",
    "    \"\"\"What is the chromosomal position of the BRCA1 gene?\"\"\",\n",
    "    \"\"\"On which chromosomes are the genes NFKB1, NFKB2, REL, RELA and RELB located?\"\"\",\n",
    "    \"\"\"Print the names of the 2 genes located immediately before and after the gene COL1A2, respectively\"\"\",\n",
    "    \"\"\"What is the biotype of the following genes XIST, MALAT1, BRCA1,NFKB1, NFKB2, REL, RELA, RELB and COL1A2?\"\"\"\n",
    "    \"\"\"What strand are the HOTAIR, HOXC11, and HOXC12 genes located on?\"\"\",\n",
    "    \"\"\"Which genes are located between the HOXC11 and HOXC12 genes on + and - strands?\"\"\",\n",
    "    \"\"\"Get the following informations about each transcript isoforms of the XIST, MALAT1, BRCA1, NFKB1, COL1A2, HOTAIR, HOXC11, and HOXC12 genes: chromosomal location and position, size, number of exons, average exon size, strand, and biotype. Organize all the information in a table and save it.\"\"\",\n",
    "    \"\"\"Generate a scatterplot to represent the distribution of gene sizes in the X chromosome.\"\"\",\n",
    "    \"\"\"Generate a stacked barplot chart to represent the proportions of protein-coding, lncRNA and miRNA genes on each chromosome separately.\"\"\",\n",
    "    \"\"\"Generate a boxplot to represent the comparison of protein_coding, lncRNA, and miRNA transcript sizes\"\"\"\n",
    "]"
   ]
  },
  {
   "cell_type": "code",
   "execution_count": 6,
   "id": "07d68ce9",
   "metadata": {},
   "outputs": [],
   "source": [
    "rate_limiter = InMemoryRateLimiter(requests_per_second=5, check_every_n_seconds=0.1, max_bucket_size=10)"
   ]
  },
  {
   "cell_type": "code",
   "execution_count": 7,
   "id": "9605683c",
   "metadata": {},
   "outputs": [],
   "source": [
    "# Use ChatOpenAI instead of OpenAI\n",
    "llm = ChatOpenAI(model=\"gpt-4o-mini\", temperature=0.1, rate_limiter=rate_limiter)\n",
    "\n",
    "current_time = datetime.datetime.now().strftime(\"%Y%m%d%H%M%S\")\n",
    "\n",
    "for ix, question in enumerate(questions):\n",
    "    TEMPLATE = '''\n",
    "    {context}\n",
    "\n",
    "    ### Given a genome annotation in a GFF/GTF format and all of its data is stored in a sqlite3 database with the following SCHEMA: \n",
    "    <schema>\n",
    "    {schema}\n",
    "    </schema>\n",
    "\n",
    "    <user_question>\n",
    "    Guide me with a query or a walkthrough based on to answer the following question: {question}\n",
    "    </user_question>\n",
    "    '''\n",
    "\n",
    "    prompt = PromptTemplate(\n",
    "        input_variables=[\"context\", \"schema\", \"question\"], template=TEMPLATE\n",
    "    )\n",
    "\n",
    "    chain = prompt | llm | StrOutputParser()\n",
    "\n",
    "    # Correct way to invoke the chain with a dictionary of inputs\n",
    "    result = chain.invoke({\n",
    "        \"context\": context,\n",
    "        \"schema\": schema,\n",
    "        \"question\": question\n",
    "    })\n",
    "\n",
    "    with open(f'results/with-prompt/openai/llm_test_question_{ix}_{current_time}.txt', 'w', encoding='utf-8') as f:\n",
    "        f.write(result)"
   ]
  },
  {
   "cell_type": "code",
   "execution_count": 10,
   "id": "5b571e75",
   "metadata": {},
   "outputs": [],
   "source": [
    "# Use ChatOpenAI instead of OpenAI\n",
    "llm = ChatOpenAI(model=\"gpt-4o-mini\", temperature=0.1, rate_limiter=rate_limiter)\n",
    "\n",
    "current_time = datetime.datetime.now().strftime(\"%Y%m%d%H%M%S\")\n",
    "\n",
    "for ix, question in enumerate(questions):\n",
    "\n",
    "    TEMPLATE = '''\n",
    "    ### Given a genome annotation in a GFF/GTF format and all of its data is stored in a sqlite3 database with the following SCHEMA: \n",
    "    <schema>\n",
    "    {schema}\n",
    "    </schema>\n",
    "\n",
    "    <user_question>\n",
    "    Guide me with a query or a walkthrough based on to answer the following question: {question}\n",
    "    </user_question>\n",
    "    '''\n",
    "\n",
    "    prompt = PromptTemplate(\n",
    "        input_variables=[\"context\", \"schema\", \"question\"], template=TEMPLATE\n",
    "    )\n",
    "\n",
    "    chain = prompt | llm | StrOutputParser()\n",
    "\n",
    "    # Correct way to invoke the chain with a dictionary of inputs\n",
    "    result = chain.invoke({\n",
    "        \"context\": context,\n",
    "        \"schema\": schema,\n",
    "        \"question\": question\n",
    "    })\n",
    "\n",
    "    with open(f'results/no-prompt/openai/llm_test_question_{ix}_{current_time}.txt', 'w', encoding='utf-8') as f:\n",
    "        f.write(result)"
   ]
  },
  {
   "cell_type": "code",
   "execution_count": 44,
   "id": "3013e32e",
   "metadata": {},
   "outputs": [
    {
     "data": {
      "text/plain": [
       "[('gene', 1108), ('transcript', 1660)]"
      ]
     },
     "execution_count": 44,
     "metadata": {},
     "output_type": "execute_result"
    }
   ],
   "source": [
    "query = '''\n",
    "SELECT 'gene' AS feature_type, COUNT(*) AS count\n",
    "FROM features\n",
    "WHERE seqid = '3' AND featuretype = 'gene'\n",
    "GROUP BY feature_type\n",
    "\n",
    "UNION ALL\n",
    "\n",
    "SELECT 'transcript' AS feature_type, COUNT(*) AS count\n",
    "FROM features\n",
    "WHERE seqid = '3' AND featuretype IN ('transcript')\n",
    "GROUP BY feature_type;\n",
    "'''\n",
    "\n",
    "cursor.execute(query)\n",
    "results = cursor.fetchall()\n",
    "results"
   ]
  },
  {
   "cell_type": "code",
   "execution_count": 45,
   "id": "2dae1c45",
   "metadata": {},
   "outputs": [
    {
     "name": "stdout",
     "output_type": "stream",
     "text": [
      "Genes on chromosome 3: 1108\n",
      "Transcripts on chromosome 3: 1660\n"
     ]
    }
   ],
   "source": [
    "genes_chr3 = sum(1 for feature in db.features_of_type('gene') if feature.seqid == '3')\n",
    "transcripts_chr3 = sum(1 for feature in db.features_of_type('transcript') if feature.seqid == '3')\n",
    "print(f\"Genes on chromosome 3: {genes_chr3}\")\n",
    "print(f\"Transcripts on chromosome 3: {transcripts_chr3}\")"
   ]
  }
 ],
 "metadata": {
  "kernelspec": {
   "display_name": ".venv",
   "language": "python",
   "name": "python3"
  },
  "language_info": {
   "codemirror_mode": {
    "name": "ipython",
    "version": 3
   },
   "file_extension": ".py",
   "mimetype": "text/x-python",
   "name": "python",
   "nbconvert_exporter": "python",
   "pygments_lexer": "ipython3",
   "version": "3.12.2"
  }
 },
 "nbformat": 4,
 "nbformat_minor": 5
}
